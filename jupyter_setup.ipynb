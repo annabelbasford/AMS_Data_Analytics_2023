{
 "cells": [
  {
   "cell_type": "markdown",
   "metadata": {},
   "source": [
    "# Jupyter Notebook setup session\n",
    "\n",
    "Annabel Basford, Wilson Wu, Nan Wu and Sophia Yaliraki\n"
   ]
  },
  {
   "cell_type": "markdown",
   "metadata": {},
   "source": [
    "## 1. Creating a virtual environment\n",
    "\n",
    "### 1.1 Background\n",
    "\n",
    "- A virtual environment is a sandbox for you to install and play around with different python packages without doing any irreversable damage to your default system.\n",
    "- Once a new virtual environment (`venv`) is created, you can enter, exit and switch between different `venv` as you wish.\n",
    "- Code is constantly changing and to keep up there are versions of each package. Not all versions of code are compatable with each other, therefore it is recommended to use a package manager such as Annaconda.\n",
    "- It is good practice to create a new `venv` per project. When sharing your project, it is a good idea to also share the `venv` you have used. This way, any collaborator will be able to emulate your system and avoid errors due to version differences.\n",
    "\n",
    "### 1.2 Let's demonstrate this ourselves\n",
    "\n",
    "- We have created a `venv` containing all the relevant packages you will need throughout this course and exported the `venv` as the file `data_analytics.yml`.\n",
    "- __Note__: make sure that this workbook `jupyter_setup.ipynb` and the file `data_analytics.yml` are saved in the same location.\n",
    "- To create the `venv` for your own computer, run the cell below."
   ]
  },
  {
   "cell_type": "code",
   "execution_count": null,
   "metadata": {},
   "outputs": [],
   "source": [
    "!conda env create -f data_analytics.yml"
   ]
  },
  {
   "cell_type": "markdown",
   "metadata": {},
   "source": [
    "### 1.3 Running the new `venv`\n",
    "\n",
    "- Before launching a Jupyter Notebook from the Annaconda Navigator, change `venv` from `base (root)` to `data_analytics` under the drop down menu highlighted in the screenshot below.\n",
    "\n",
    "<img src='figures/select_venv.png'>"
   ]
  },
  {
   "cell_type": "markdown",
   "metadata": {},
   "source": [
    "### 1.4 Checking the new `venv` works\n",
    "\n",
    "- Now open `Workbook_1.ipynb` and run the boiler plate, which is the first code cell containing all of the package imports.\n",
    "- If the cell runs with no import errors (`ModuleNotFoundError`), you are all set!"
   ]
  },
  {
   "cell_type": "markdown",
   "metadata": {},
   "source": [
    "## 2. Launching Jupyter Notebook from the command line\n",
    "\n",
    "- We will demonstrate this during the drop-in session if we have enough time and if there is a enough interest."
   ]
  }
 ],
 "metadata": {
  "kernelspec": {
   "display_name": "data_analytics",
   "language": "python",
   "name": "python3"
  },
  "language_info": {
   "codemirror_mode": {
    "name": "ipython",
    "version": 3
   },
   "file_extension": ".py",
   "mimetype": "text/x-python",
   "name": "python",
   "nbconvert_exporter": "python",
   "pygments_lexer": "ipython3",
   "version": "3.7.13"
  }
 },
 "nbformat": 4,
 "nbformat_minor": 2
}
